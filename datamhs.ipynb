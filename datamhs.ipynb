{
 "cells": [
  {
   "cell_type": "code",
   "execution_count": 5,
   "metadata": {},
   "outputs": [
    {
     "name": "stdout",
     "output_type": "stream",
     "text": [
      "  mhs   ipk  gaji\n",
      "0   A  3.00    10\n",
      "1   B  2.99     1\n"
     ]
    }
   ],
   "source": [
    "import numpy as np\n",
    "import pandas as pd\n",
    "\n",
    "data_mahasiswa = pd.read_csv(\"dataMahasiswa.csv\")\n",
    "print(data_mahasiswa)\n"
   ]
  },
  {
   "cell_type": "code",
   "execution_count": 6,
   "metadata": {},
   "outputs": [
    {
     "name": "stdout",
     "output_type": "stream",
     "text": [
      "ipk_A:  3.0\n",
      "ipk_B:  2.99\n"
     ]
    }
   ],
   "source": [
    "#data_ipk\n",
    "data_ipk = np.array(data_mahasiswa)\n",
    "data_ipk = data_ipk[:,[0,1]]\n",
    "\n",
    "ipk_A = np.sum(data_ipk[0:1,1], axis=0)\n",
    "ipk_B = np.sum(data_ipk[1:2,1], axis=0)\n",
    "print(\"ipk_A: \", ipk_A)\n",
    "print(\"ipk_B: \", ipk_B)"
   ]
  },
  {
   "cell_type": "code",
   "execution_count": 7,
   "metadata": {},
   "outputs": [
    {
     "name": "stdout",
     "output_type": "stream",
     "text": [
      "gaji_A:  10\n",
      "gaji_B:  1\n"
     ]
    }
   ],
   "source": [
    "#data_gaji\n",
    "data_gaji = np.array(data_mahasiswa)\n",
    "data_gaji = data_gaji[:,[0,2]]\n",
    "\n",
    "gaji_A = np.sum(data_gaji[0:1,1], axis=0)\n",
    "gaji_B = np.sum(data_gaji[1:2,1], axis=0)\n",
    "print(\"gaji_A: \", gaji_A)\n",
    "print(\"gaji_B: \", gaji_B)"
   ]
  },
  {
   "cell_type": "code",
   "execution_count": null,
   "metadata": {},
   "outputs": [],
   "source": [
    "pip install -U scikit-fuzzy"
   ]
  },
  {
   "cell_type": "code",
   "execution_count": null,
   "metadata": {},
   "outputs": [],
   "source": [
    "pip install scikit-fuzzy\n"
   ]
  },
  {
   "cell_type": "code",
   "execution_count": null,
   "metadata": {},
   "outputs": [],
   "source": [
    "import skfuzzy as fuzz\n",
    "import matplotlib.pyplot as plt\n",
    "\n",
    "#Semesta Pembicaraan\n",
    "x_ipk = np.arange (0, 4, 0.25)\n",
    "x_gaji = np.arange (0, 15, 1)\n",
    "x_nk = np.arange (0, 100, 1)\n",
    "\n",
    "#Membership Function\n",
    "#IPK\n",
    "ipk_buruk = fuzz.trapmf(x_ipk, [0,0,2,2,2.75])\n",
    "ipk_cukup = fuzz.trimf(x_ipk,[2,2.75,3.25])\n",
    "ipk_bagus = fuzz.trapmf(x_ipk,[2.75,3.25,4,4])\n",
    "\n",
    "#Gaji\n",
    "gaji_kecil = fuzz.trapmf(x_gaji,[0,0,1,3])\n",
    "gaji_sedang = fuzz.trapmf(x_gaji,[1,2,4,6])\n",
    "gaji_besar = fuzz.trapmf(x_gaji,[4,6,7,12])\n",
    "gaji_sangat_besar = fuzz.trapmf(x_gaji,[7,12,15,15])\n",
    "\n",
    "#Nilai Kelayakan\n",
    "nk_rendak = fuzz.trapmf(x_nk, [0,0,50,80])\n",
    "nk_tinggi = fuzz.trapmf(x_nk,[20,80,100,100])\n",
    "\n",
    "#Kurva Membership Function\n",
    "fig, (ax0, ax1, ax2) = plt.subplots (nrows=3, figsize=(8, 9))\n",
    "\n",
    "ax0.plot(x_ipk, ipk_buruk, 'b', linewidth=1.5, label= 'Buruk')\n",
    "ax0.plot(x_ipk, ipk_cukup, 'g', linewidth=1.5, label='Cukup')\n",
    "ax0.plot(x_ipk, ipk_bagus, 'r', linewidth=1.5, label='Bagus')\n",
    "ax0.set_title('IPK')\n",
    "ax0.legend()\n",
    "\n",
    "ax1.plot(x_gaji, gaji_kecil, 'b', linewidth=1.5, label= 'Kecil')\n",
    "ax1.plot(x_gaji, gaji_sedang, 'g', linewidth=1.5, label='Sedang')\n",
    "ax1.plot(x_gaji, gaji_besar, 'r', linewidth=1.5, label='Besar')\n",
    "ax1.plot(x_gaji, gaji_sangat_besar, 'r', linewidth=1.5, label=' Sangat Besar')\n",
    "ax1.set_title('Gaji')\n",
    "ax1.legend()\n",
    "\n",
    "ax2.plot(x_nk, nk_rendah, 'b', linewidth=1.5, label= 'Rendah')\n",
    "ax2.plot(x_nk, nk_tinggi, 'r', linewidth=1.5, label='Tinggi')\n",
    "ax2.set_title('Nilai Kelayakan')\n",
    "ax2.legend()\n",
    "\n",
    "for ax in (ax0, ax1, ax2):\n",
    "    ax.spines['top'].set_visible(False)\n",
    "    ax.spines['right'].set_visible(False)\n",
    "    ax.get_xaxis().tick_bottom()\n",
    "    ax.get_yaxis().tick_left()\n",
    "\n",
    "plt.tight_layout()"
   ]
  },
  {
   "cell_type": "code",
   "execution_count": null,
   "metadata": {},
   "outputs": [],
   "source": [
    "#Fungsi Keanggotaan IPK\n",
    "def fungsiKeanggotaan_IPK(_nilai):\n",
    "    buruk = fuzz.interp_membership(x_ipk, ipk_buruk, _nilai)\n",
    "    cukup = fuzz.interp_membership(x_ipk, ipk_cukup, _nilai)\n",
    "    bagus = fuzz.interp_membership(x_ipk, ipk_bagus, _nilai)\n",
    "    return buruk, cukup, bagus\n",
    "\n",
    "#Fungsi Keanggotaan Gaji\n",
    "def fungsiKeanggotaan_Gaji(_nilai):\n",
    "    kecil = fuzz.interp_membership(x_gaji, gaji_kecil, _nilai)\n",
    "    sedang = fuzz.interp_membership(x_gaji, gaji_sedang, _nilai)\n",
    "    besar = fuzz.interp_membership(x_gaji, gaji_besar, _nilai)\n",
    "    sangat_besar = fuzz.interp_membership(x_gaji, gaji_sangat_besar, _nilai)\n",
    "    return kecil, sedang, besar, sangat_besar\n",
    "\n",
    "#Menghitung Derajat Keanggotaan IPK\n",
    "ipk_mhsA = fungsiKeanggotaan_IPK(ipk_A)\n",
    "ipk_mhsB = fungsiKeanggotaan_IPK(ipk_B)\n",
    "\n",
    "print(\"ipk mhsA: \", ipk_mhsA)\n",
    "print(\"ipk mhsB: \", ipk_mhsB)"
   ]
  },
  {
   "cell_type": "code",
   "execution_count": null,
   "metadata": {},
   "outputs": [],
   "source": [
    "pip install --upgrade paket"
   ]
  },
  {
   "cell_type": "code",
   "execution_count": null,
   "metadata": {},
   "outputs": [],
   "source": [
    "pip install distutils"
   ]
  },
  {
   "cell_type": "code",
   "execution_count": null,
   "metadata": {},
   "outputs": [],
   "source": []
  }
 ],
 "metadata": {
  "kernelspec": {
   "display_name": "Python 3",
   "language": "python",
   "name": "python3"
  },
  "language_info": {
   "codemirror_mode": {
    "name": "ipython",
    "version": 3
   },
   "file_extension": ".py",
   "mimetype": "text/x-python",
   "name": "python",
   "nbconvert_exporter": "python",
   "pygments_lexer": "ipython3",
   "version": "3.12.3"
  }
 },
 "nbformat": 4,
 "nbformat_minor": 2
}
